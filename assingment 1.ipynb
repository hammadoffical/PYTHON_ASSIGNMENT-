{
 "cells": [
  {
   "cell_type": "code",
   "execution_count": 1,
   "id": "6e07f701",
   "metadata": {},
   "outputs": [
    {
     "name": "stdout",
     "output_type": "stream",
     "text": [
      "1 , 2 , 3 , 4 , 5 , 6 , 7 , 8 , 9 , 10 , 11 , 12 , 13 , "
     ]
    }
   ],
   "source": [
    "for i in range(1,50):\n",
    "    if i == 14 :\n",
    "        break\n",
    "    print(i, end =\" , \")"
   ]
  },
  {
   "cell_type": "code",
   "execution_count": 2,
   "id": "c539e20f",
   "metadata": {},
   "outputs": [
    {
     "name": "stdout",
     "output_type": "stream",
     "text": [
      "1 , 2 , 3 , 4 , 5 , 7 , 8 , 9 , 10 , 11 , 12 , 13 , 14 , 15 , 17 , 18 , 19 , 20 , 21 , 22 , 23 , 24 , 25 , 27 , 28 , 29 , 30 , 31 , 32 , 33 , 34 , 35 , 36 , 37 , 39 , 40 , 41 , 42 , 43 , 44 , 45 , 47 , 48 , 49 , "
     ]
    }
   ],
   "source": [
    "for i in range(1,50):\n",
    "    if i == 6 or i == 16 or i == 26 or i == 38 or i == 46:\n",
    "        continue\n",
    "    print(i, end =\" , \")"
   ]
  },
  {
   "cell_type": "code",
   "execution_count": 3,
   "id": "59b91d92",
   "metadata": {},
   "outputs": [
    {
     "name": "stdout",
     "output_type": "stream",
     "text": [
      "Enter C++ number : 65\n",
      "Enter islamic study number : 60\n",
      "Enter C++ lab number : 66\n",
      "Enter ICT number : 64\n",
      "Enter ICT lab number : 65\n",
      "Enter English number : 60\n",
      "c++ number 65\n",
      "islamic study 60\n",
      "C++ lab 66\n",
      "ICT 64\n",
      "ICT lab 65\n",
      "English 60\n"
     ]
    },
    {
     "data": {
      "text/plain": [
       "63.33333333333333"
      ]
     },
     "execution_count": 3,
     "metadata": {},
     "output_type": "execute_result"
    }
   ],
   "source": [
    "t = 0\n",
    "a = int(input(\"Enter C++ number : \" ))\n",
    "b = int(input(\"Enter islamic study number : \" ))\n",
    "c =int(input(\"Enter C++ lab number : \" ))\n",
    "d =int(input(\"Enter ICT number : \" ))\n",
    "e =int(input(\"Enter ICT lab number : \" ))\n",
    "f =int(input(\"Enter English number : \" ))\n",
    "if a >= 49:\n",
    "    print(\"c++ number\",a)\n",
    "    t += a\n",
    "    pass\n",
    "if b >= 49:\n",
    "    print(\"islamic study\",b)\n",
    "    t += b\n",
    "    pass\n",
    "if c >= 49:\n",
    "    print(\"C++ lab\",c)\n",
    "    t += c\n",
    "    pass\n",
    "if d >= 49:\n",
    "    print(\"ICT\",d)\n",
    "    t += d\n",
    "    pass\n",
    "if e >=49:\n",
    "    print(\"ICT lab\",e)\n",
    "    t += e\n",
    "    pass\n",
    "if f >= 49:\n",
    "    print(\"English\",f)\n",
    "    t += f\n",
    "    \n",
    "avg = t/600*100\n",
    "avg"
   ]
  },
  {
   "cell_type": "code",
   "execution_count": null,
   "id": "4066509b",
   "metadata": {},
   "outputs": [],
   "source": []
  }
 ],
 "metadata": {
  "kernelspec": {
   "display_name": "Python 3 (ipykernel)",
   "language": "python",
   "name": "python3"
  },
  "language_info": {
   "codemirror_mode": {
    "name": "ipython",
    "version": 3
   },
   "file_extension": ".py",
   "mimetype": "text/x-python",
   "name": "python",
   "nbconvert_exporter": "python",
   "pygments_lexer": "ipython3",
   "version": "3.11.1"
  }
 },
 "nbformat": 4,
 "nbformat_minor": 5
}
