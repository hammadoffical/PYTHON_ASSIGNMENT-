{
 "cells": [
  {
   "cell_type": "code",
   "execution_count": 1,
   "id": "9374768f",
   "metadata": {},
   "outputs": [
    {
     "name": "stdout",
     "output_type": "stream",
     "text": [
      "enter their zip code : 69000\n",
      "MIRPURKHAS\n"
     ]
    }
   ],
   "source": [
    "dict = {\n",
    "    'MIRPURKHAS' : 69000,\n",
    "    'TANDO MUHAMMAD KHAN' : 70220,\n",
    "    'SHAHZADPUR' : 134202,\n",
    "    'TANDA JAM': 70050,\n",
    "    'TANDO ADAM ' : \n",
    "}\n",
    "val = int(input(\"enter their zip code : \"))\n",
    "for key, value in dict.items():\n",
    "    if value == val:\n",
    "        print(key)"
   ]
  },
  {
   "cell_type": "code",
   "execution_count": 2,
   "id": "346222f6",
   "metadata": {},
   "outputs": [],
   "source": [
    "dicts = {\n",
    "    \"umer\" : [73,81,68,76,90,80],\n",
    "    \"waleed\" : [65,75,85,55,60,75],\n",
    "    \"anas\" : [70,88,63,69,90,80],\n",
    "    \"hamza\" : [76,67,78,87,90,75],\n",
    "    \"hammad\" : [55,85,75,80,69,75]\n",
    "}\n",
    "\n",
    "for key, values in dicts.items():\n",
    "    dicts[key] = sum(values)"
   ]
  },
  {
   "cell_type": "code",
   "execution_count": 3,
   "id": "7110431a",
   "metadata": {},
   "outputs": [
    {
     "data": {
      "text/plain": [
       "{'umer': 468, 'waleed': 415, 'anas': 460, 'hamza': 473, 'hammad': 439}"
      ]
     },
     "execution_count": 3,
     "metadata": {},
     "output_type": "execute_result"
    }
   ],
   "source": [
    "dicts"
   ]
  },
  {
   "cell_type": "code",
   "execution_count": 4,
   "id": "2488e35a",
   "metadata": {},
   "outputs": [
    {
     "data": {
      "text/plain": [
       "468"
      ]
     },
     "execution_count": 4,
     "metadata": {},
     "output_type": "execute_result"
    }
   ],
   "source": [
    "df = dicts ['umer']\n",
    "df"
   ]
  },
  {
   "cell_type": "code",
   "execution_count": 5,
   "id": "9482a55a",
   "metadata": {},
   "outputs": [
    {
     "data": {
      "text/plain": [
       "78.0"
      ]
     },
     "execution_count": 5,
     "metadata": {},
     "output_type": "execute_result"
    }
   ],
   "source": [
    "df/600*100"
   ]
  },
  {
   "cell_type": "code",
   "execution_count": 6,
   "id": "c6c76894",
   "metadata": {},
   "outputs": [
    {
     "data": {
      "text/plain": [
       "415"
      ]
     },
     "execution_count": 6,
     "metadata": {},
     "output_type": "execute_result"
    }
   ],
   "source": [
    "r = dicts ['waleed']\n",
    "r"
   ]
  },
  {
   "cell_type": "code",
   "execution_count": 7,
   "id": "22c4aedb",
   "metadata": {},
   "outputs": [
    {
     "data": {
      "text/plain": [
       "69.16666666666667"
      ]
     },
     "execution_count": 7,
     "metadata": {},
     "output_type": "execute_result"
    }
   ],
   "source": [
    "r/600*100"
   ]
  },
  {
   "cell_type": "code",
   "execution_count": 8,
   "id": "f9fe8008",
   "metadata": {},
   "outputs": [
    {
     "data": {
      "text/plain": [
       "460"
      ]
     },
     "execution_count": 8,
     "metadata": {},
     "output_type": "execute_result"
    }
   ],
   "source": [
    "f = dicts ['anas']\n",
    "f"
   ]
  },
  {
   "cell_type": "code",
   "execution_count": 9,
   "id": "7297b62c",
   "metadata": {},
   "outputs": [
    {
     "data": {
      "text/plain": [
       "76.66666666666667"
      ]
     },
     "execution_count": 9,
     "metadata": {},
     "output_type": "execute_result"
    }
   ],
   "source": [
    "f/600*100"
   ]
  },
  {
   "cell_type": "code",
   "execution_count": 10,
   "id": "b0cbfbc8",
   "metadata": {},
   "outputs": [
    {
     "data": {
      "text/plain": [
       "473"
      ]
     },
     "execution_count": 10,
     "metadata": {},
     "output_type": "execute_result"
    }
   ],
   "source": [
    "bf = dicts ['hamza']\n",
    "bf"
   ]
  },
  {
   "cell_type": "code",
   "execution_count": 11,
   "id": "2ba554c1",
   "metadata": {},
   "outputs": [
    {
     "data": {
      "text/plain": [
       "78.83333333333333"
      ]
     },
     "execution_count": 11,
     "metadata": {},
     "output_type": "execute_result"
    }
   ],
   "source": [
    "bf/600*100"
   ]
  },
  {
   "cell_type": "code",
   "execution_count": 12,
   "id": "bcd6a29e",
   "metadata": {},
   "outputs": [
    {
     "data": {
      "text/plain": [
       "439"
      ]
     },
     "execution_count": 12,
     "metadata": {},
     "output_type": "execute_result"
    }
   ],
   "source": [
    "af = dicts ['hammad']\n",
    "af"
   ]
  },
  {
   "cell_type": "code",
   "execution_count": 13,
   "id": "e4c2b716",
   "metadata": {},
   "outputs": [
    {
     "data": {
      "text/plain": [
       "73.16666666666667"
      ]
     },
     "execution_count": 13,
     "metadata": {},
     "output_type": "execute_result"
    }
   ],
   "source": [
    "af/600*100"
   ]
  },
  {
   "cell_type": "markdown",
   "id": "b6d310b2",
   "metadata": {},
   "source": [
    "ASSINGMENTS 3"
   ]
  },
  {
   "cell_type": "code",
   "execution_count": 14,
   "id": "69f6869d",
   "metadata": {},
   "outputs": [],
   "source": [
    "import pandas as pd"
   ]
  },
  {
   "cell_type": "code",
   "execution_count": 30,
   "id": "84297536",
   "metadata": {},
   "outputs": [
    {
     "data": {
      "text/plain": [
       "name                 HAMMAD\n",
       "date of birth    2002-01-03\n",
       "rollnumber               13\n",
       "marks                    85\n",
       "dtype: object"
      ]
     },
     "execution_count": 30,
     "metadata": {},
     "output_type": "execute_result"
    }
   ],
   "source": [
    " d = {'name' : 'HAMMAD', 'date of birth' : '2002-01-03', 'rollnumber' : 13, 'marks' : 85}\n",
    " ds = pd.Series(d)\n",
    "ds\n"
   ]
  },
  {
   "cell_type": "code",
   "execution_count": 31,
   "id": "8e6cdd1c",
   "metadata": {},
   "outputs": [
    {
     "data": {
      "text/html": [
       "<div>\n",
       "<style scoped>\n",
       "    .dataframe tbody tr th:only-of-type {\n",
       "        vertical-align: middle;\n",
       "    }\n",
       "\n",
       "    .dataframe tbody tr th {\n",
       "        vertical-align: top;\n",
       "    }\n",
       "\n",
       "    .dataframe thead th {\n",
       "        text-align: right;\n",
       "    }\n",
       "</style>\n",
       "<table border=\"1\" class=\"dataframe\">\n",
       "  <thead>\n",
       "    <tr style=\"text-align: right;\">\n",
       "      <th></th>\n",
       "      <th>name</th>\n",
       "      <th>run</th>\n",
       "      <th>Balls</th>\n",
       "      <th>minutes</th>\n",
       "      <th>Dot</th>\n",
       "    </tr>\n",
       "  </thead>\n",
       "  <tbody>\n",
       "    <tr>\n",
       "      <th>0</th>\n",
       "      <td>HAMMAD</td>\n",
       "      <td>35</td>\n",
       "      <td>32</td>\n",
       "      <td>32</td>\n",
       "      <td>6</td>\n",
       "    </tr>\n",
       "    <tr>\n",
       "      <th>1</th>\n",
       "      <td>BILAL</td>\n",
       "      <td>30</td>\n",
       "      <td>27</td>\n",
       "      <td>24</td>\n",
       "      <td>3</td>\n",
       "    </tr>\n",
       "    <tr>\n",
       "      <th>2</th>\n",
       "      <td>HAMZA</td>\n",
       "      <td>2</td>\n",
       "      <td>3</td>\n",
       "      <td>6</td>\n",
       "      <td>1</td>\n",
       "    </tr>\n",
       "    <tr>\n",
       "      <th>3</th>\n",
       "      <td>WASEEM</td>\n",
       "      <td>56</td>\n",
       "      <td>58</td>\n",
       "      <td>65</td>\n",
       "      <td>13</td>\n",
       "    </tr>\n",
       "  </tbody>\n",
       "</table>\n",
       "</div>"
      ],
      "text/plain": [
       "     name  run  Balls  minutes  Dot\n",
       "0  HAMMAD   35     32       32    6\n",
       "1   BILAL   30     27       24    3\n",
       "2   HAMZA    2      3        6    1\n",
       "3  WASEEM   56     58       65   13"
      ]
     },
     "execution_count": 31,
     "metadata": {},
     "output_type": "execute_result"
    }
   ],
   "source": [
    " data = { 'name' : ['HAMMAD', 'BILAL', 'HAMZA','WASEEM'],\n",
    "'run' : [35, 30, 2,56],\n",
    "'Balls' : [32, 27, 3 ,58],\n",
    "'minutes' : [32 , 24, 6,65],\n",
    "'Dot' : [6, 3, 1,13]\n",
    "}\n",
    " df = pd.DataFrame(data)\n",
    "df"
   ]
  },
  {
   "cell_type": "code",
   "execution_count": 32,
   "id": "16f7ad55",
   "metadata": {},
   "outputs": [
    {
     "data": {
      "text/html": [
       "<div>\n",
       "<style scoped>\n",
       "    .dataframe tbody tr th:only-of-type {\n",
       "        vertical-align: middle;\n",
       "    }\n",
       "\n",
       "    .dataframe tbody tr th {\n",
       "        vertical-align: top;\n",
       "    }\n",
       "\n",
       "    .dataframe thead th {\n",
       "        text-align: right;\n",
       "    }\n",
       "</style>\n",
       "<table border=\"1\" class=\"dataframe\">\n",
       "  <thead>\n",
       "    <tr style=\"text-align: right;\">\n",
       "      <th></th>\n",
       "      <th>name</th>\n",
       "      <th>run</th>\n",
       "    </tr>\n",
       "  </thead>\n",
       "  <tbody>\n",
       "    <tr>\n",
       "      <th>0</th>\n",
       "      <td>HAMMAD</td>\n",
       "      <td>35</td>\n",
       "    </tr>\n",
       "    <tr>\n",
       "      <th>1</th>\n",
       "      <td>BILAL</td>\n",
       "      <td>30</td>\n",
       "    </tr>\n",
       "    <tr>\n",
       "      <th>2</th>\n",
       "      <td>HAMZA</td>\n",
       "      <td>2</td>\n",
       "    </tr>\n",
       "    <tr>\n",
       "      <th>3</th>\n",
       "      <td>WASEEM</td>\n",
       "      <td>56</td>\n",
       "    </tr>\n",
       "  </tbody>\n",
       "</table>\n",
       "</div>"
      ],
      "text/plain": [
       "     name  run\n",
       "0  HAMMAD   35\n",
       "1   BILAL   30\n",
       "2   HAMZA    2\n",
       "3  WASEEM   56"
      ]
     },
     "execution_count": 32,
     "metadata": {},
     "output_type": "execute_result"
    }
   ],
   "source": [
    "sd= df[['name','run']]\n",
    "sd\n"
   ]
  },
  {
   "cell_type": "code",
   "execution_count": 33,
   "id": "c76c6250",
   "metadata": {},
   "outputs": [
    {
     "data": {
      "text/html": [
       "<div>\n",
       "<style scoped>\n",
       "    .dataframe tbody tr th:only-of-type {\n",
       "        vertical-align: middle;\n",
       "    }\n",
       "\n",
       "    .dataframe tbody tr th {\n",
       "        vertical-align: top;\n",
       "    }\n",
       "\n",
       "    .dataframe thead th {\n",
       "        text-align: right;\n",
       "    }\n",
       "</style>\n",
       "<table border=\"1\" class=\"dataframe\">\n",
       "  <thead>\n",
       "    <tr style=\"text-align: right;\">\n",
       "      <th></th>\n",
       "      <th>name</th>\n",
       "      <th>run</th>\n",
       "    </tr>\n",
       "  </thead>\n",
       "  <tbody>\n",
       "    <tr>\n",
       "      <th>2</th>\n",
       "      <td>HAMZA</td>\n",
       "      <td>2</td>\n",
       "    </tr>\n",
       "    <tr>\n",
       "      <th>1</th>\n",
       "      <td>BILAL</td>\n",
       "      <td>30</td>\n",
       "    </tr>\n",
       "    <tr>\n",
       "      <th>0</th>\n",
       "      <td>HAMMAD</td>\n",
       "      <td>35</td>\n",
       "    </tr>\n",
       "    <tr>\n",
       "      <th>3</th>\n",
       "      <td>WASEEM</td>\n",
       "      <td>56</td>\n",
       "    </tr>\n",
       "  </tbody>\n",
       "</table>\n",
       "</div>"
      ],
      "text/plain": [
       "     name  run\n",
       "2   HAMZA    2\n",
       "1   BILAL   30\n",
       "0  HAMMAD   35\n",
       "3  WASEEM   56"
      ]
     },
     "execution_count": 33,
     "metadata": {},
     "output_type": "execute_result"
    }
   ],
   "source": [
    "sd.sort_values('run')"
   ]
  },
  {
   "cell_type": "code",
   "execution_count": 34,
   "id": "683c9e5a",
   "metadata": {},
   "outputs": [
    {
     "data": {
      "text/html": [
       "<div>\n",
       "<style scoped>\n",
       "    .dataframe tbody tr th:only-of-type {\n",
       "        vertical-align: middle;\n",
       "    }\n",
       "\n",
       "    .dataframe tbody tr th {\n",
       "        vertical-align: top;\n",
       "    }\n",
       "\n",
       "    .dataframe thead th {\n",
       "        text-align: right;\n",
       "    }\n",
       "</style>\n",
       "<table border=\"1\" class=\"dataframe\">\n",
       "  <thead>\n",
       "    <tr style=\"text-align: right;\">\n",
       "      <th></th>\n",
       "      <th>name</th>\n",
       "      <th>run</th>\n",
       "      <th>minutes</th>\n",
       "    </tr>\n",
       "  </thead>\n",
       "  <tbody>\n",
       "    <tr>\n",
       "      <th>0</th>\n",
       "      <td>HAMMAD</td>\n",
       "      <td>35</td>\n",
       "      <td>32</td>\n",
       "    </tr>\n",
       "    <tr>\n",
       "      <th>1</th>\n",
       "      <td>BILAL</td>\n",
       "      <td>30</td>\n",
       "      <td>24</td>\n",
       "    </tr>\n",
       "    <tr>\n",
       "      <th>2</th>\n",
       "      <td>HAMZA</td>\n",
       "      <td>2</td>\n",
       "      <td>6</td>\n",
       "    </tr>\n",
       "    <tr>\n",
       "      <th>3</th>\n",
       "      <td>WASEEM</td>\n",
       "      <td>56</td>\n",
       "      <td>65</td>\n",
       "    </tr>\n",
       "  </tbody>\n",
       "</table>\n",
       "</div>"
      ],
      "text/plain": [
       "     name  run  minutes\n",
       "0  HAMMAD   35       32\n",
       "1   BILAL   30       24\n",
       "2   HAMZA    2        6\n",
       "3  WASEEM   56       65"
      ]
     },
     "execution_count": 34,
     "metadata": {},
     "output_type": "execute_result"
    }
   ],
   "source": [
    "da = df[['name','run', 'minutes']]\n",
    "da\n"
   ]
  },
  {
   "cell_type": "code",
   "execution_count": 35,
   "id": "4324e62a",
   "metadata": {},
   "outputs": [],
   "source": [
    "sm_da = da\n",
    "show= sm_da[(sm_da['run'] >= 30) & (sm_da['minutes'] >= 30)]"
   ]
  },
  {
   "cell_type": "code",
   "execution_count": 36,
   "id": "2adc99fa",
   "metadata": {},
   "outputs": [
    {
     "data": {
      "text/html": [
       "<div>\n",
       "<style scoped>\n",
       "    .dataframe tbody tr th:only-of-type {\n",
       "        vertical-align: middle;\n",
       "    }\n",
       "\n",
       "    .dataframe tbody tr th {\n",
       "        vertical-align: top;\n",
       "    }\n",
       "\n",
       "    .dataframe thead th {\n",
       "        text-align: right;\n",
       "    }\n",
       "</style>\n",
       "<table border=\"1\" class=\"dataframe\">\n",
       "  <thead>\n",
       "    <tr style=\"text-align: right;\">\n",
       "      <th></th>\n",
       "      <th>name</th>\n",
       "      <th>run</th>\n",
       "      <th>minutes</th>\n",
       "    </tr>\n",
       "  </thead>\n",
       "  <tbody>\n",
       "    <tr>\n",
       "      <th>0</th>\n",
       "      <td>HAMMAD</td>\n",
       "      <td>35</td>\n",
       "      <td>32</td>\n",
       "    </tr>\n",
       "    <tr>\n",
       "      <th>3</th>\n",
       "      <td>WASEEM</td>\n",
       "      <td>56</td>\n",
       "      <td>65</td>\n",
       "    </tr>\n",
       "  </tbody>\n",
       "</table>\n",
       "</div>"
      ],
      "text/plain": [
       "     name  run  minutes\n",
       "0  HAMMAD   35       32\n",
       "3  WASEEM   56       65"
      ]
     },
     "execution_count": 36,
     "metadata": {},
     "output_type": "execute_result"
    }
   ],
   "source": [
    "show"
   ]
  },
  {
   "cell_type": "code",
   "execution_count": null,
   "id": "b23f7c58",
   "metadata": {},
   "outputs": [],
   "source": []
  },
  {
   "cell_type": "code",
   "execution_count": null,
   "id": "0c191b04",
   "metadata": {},
   "outputs": [],
   "source": []
  }
 ],
 "metadata": {
  "kernelspec": {
   "display_name": "Python 3 (ipykernel)",
   "language": "python",
   "name": "python3"
  },
  "language_info": {
   "codemirror_mode": {
    "name": "ipython",
    "version": 3
   },
   "file_extension": ".py",
   "mimetype": "text/x-python",
   "name": "python",
   "nbconvert_exporter": "python",
   "pygments_lexer": "ipython3",
   "version": "3.11.1"
  }
 },
 "nbformat": 4,
 "nbformat_minor": 5
}
